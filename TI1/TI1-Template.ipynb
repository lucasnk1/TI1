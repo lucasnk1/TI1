{
 "cells": [
  {
   "cell_type": "markdown",
   "id": "578bf0e2",
   "metadata": {},
   "source": [
    "# [Prof. Dalvan Griebler](mailto:dalvan.griebler@pucrs.br)\n",
    "\n",
    "## Programação Orientada a Dados (POD) - Turma 10 (POD_98H04-06)\n",
    "\n",
    "**Atualizado**: 24/10/2024\n",
    "\n",
    "**Descrição**: Trabalho Individual: Programação Funcional\n",
    "\n",
    "**Copyright &copy;**: Este documento está sob a licensa da Criative Commons [BY-NC-ND 4.0](https://creativecommons.org/licenses/by-nc-nd/4.0/legalcode)\n",
    "\n",
    "**Dataset**: [Candidados Eleição 2024](https://dados.gov.br/dados/conjuntos-dados/candidatos-2024), algumas colunas foram removidas."
   ]
  },
  {
   "cell_type": "markdown",
   "id": "1e9d313f",
   "metadata": {},
   "source": [
    "<font color=\"orange\">\n",
    "<b>\n",
    "Atenção: Explicar como funcionam todas as função criadas através de comentário do Python (`#`). Você também será avaliado por esta explicação.\n",
    "</font>"
   ]
  },
  {
   "cell_type": "markdown",
   "id": "ebd4f9c2",
   "metadata": {},
   "source": [
    "<font color=\"blue\">\n",
    "<b>\n",
    "Definição resumida sobre funções do paradigma funcional:<br>\n",
    "   &nbsp;&nbsp;&nbsp;&nbsp; <ins>são funções que são puras, que não apresentam efeito colateral, podem ser de alta ordem, podem ser currificadas e não utilizam laços de repetição.</ins>\n",
    "</b>\n",
    "</font>"
   ]
  },
  {
   "cell_type": "markdown",
   "id": "52f59dc7",
   "metadata": {},
   "source": [
    "### Trabalho realizado por:"
   ]
  },
  {
   "cell_type": "markdown",
   "id": "aa965839",
   "metadata": {},
   "source": [
    "[LUCAS LEUCK DE OLIVEIRA]"
   ]
  },
  {
   "cell_type": "markdown",
   "id": "63b3507e",
   "metadata": {},
   "source": [
    "## Parte 1: Dataset Bens dos Candidatos"
   ]
  },
  {
   "cell_type": "markdown",
   "id": "0640b01b",
   "metadata": {},
   "source": [
    "### Módulos autorizados"
   ]
  },
  {
   "cell_type": "code",
   "execution_count": null,
   "id": "623b6512",
   "metadata": {},
   "outputs": [],
   "source": [
    "import csv\n",
    "from functools import reduce\n",
    "from itertools import *"
   ]
  },
  {
   "cell_type": "markdown",
   "id": "980263bd",
   "metadata": {},
   "source": [
    "### Funções auxiliares\n",
    "\n",
    "Estas funções são apenas auxiliares para teste e uso. Elas não são do paradigma funcional pois utilizam laços.\n",
    "\n",
    "É necessário o uso para que possamos avaliar sua capacidade de interagir e implementar funções do paradigma funcional."
   ]
  },
  {
   "cell_type": "code",
   "execution_count": null,
   "id": "5a8e80a2",
   "metadata": {},
   "outputs": [],
   "source": [
    "def mostra_dados(titulo, nome_arq, f, *args):\n",
    "    \"\"\"\n",
    "    Função auxiliar para mostrar o resultado da execução de uma função do paradigma funcional.\n",
    "    A função abre um arquivo CSV e passa para função do paradigma funcional um objeto DictReader e \n",
    "    depois mostra o resultado na tela.\n",
    "    \"\"\"\n",
    "    print(\"|___   \", titulo, \"  ___|\")\n",
    "    with open(nome_arq, \"r\", encoding='utf-8-sig') as arq:\n",
    "        dados = csv.DictReader(arq, delimiter=',')\n",
    "        fdados = f(dados, *args)\n",
    "        try:\n",
    "            iterator = iter(fdados)\n",
    "        except TypeError:\n",
    "            print(fdados)\n",
    "        else:\n",
    "            for linha in fdados:\n",
    "                print(linha)\n",
    "\n",
    "def retorna_dados(nome_arq):\n",
    "    \"\"\"\n",
    "    Função auxiliar que retorna os dados em formato de um objeto DictReader após a leitura de um arquivo!\n",
    "    \"\"\"\n",
    "    with open(nome_arq, \"r\", encoding='utf-8-sig') as arq:\n",
    "        dados = csv.DictReader(arq, delimiter=',')\n",
    "        for linha in dados:\n",
    "            for chave, valor in linha.items():\n",
    "                linha[chave] = valor.strip()  # reassign\n",
    "            yield linha        \n",
    "                \n",
    "def salvar_dados(nome_arq, new_file, f):\n",
    "    \"\"\"\n",
    "    Função auxiliar que chama uma função do paradigma funcional e depois salva o resultado em um arquivo CSV!\n",
    "    A função abre um arquivo CSV e passa para função do paradigma funcional um objeto DictReader e \n",
    "    depois salva a saída em um arquivo CSV\n",
    "    \"\"\"\n",
    "    with open(nome_arq, \"r\", encoding='utf-8-sig') as arq:\n",
    "        dados=csv.DictReader(arq, delimiter=',')\n",
    "        fdados = list(f(dados))\n",
    "        fieldnames = fdados[0].keys()\n",
    "        \n",
    "    with open(new_file, \"w\", encoding='utf-8-sig') as arq:\n",
    "        try:\n",
    "            iterator=iter(fdados)\n",
    "        except TypeError:\n",
    "            return False\n",
    "        else:\n",
    "            writer = csv.DictWriter(arq, fieldnames=fieldnames)\n",
    "            writer.writeheader()\n",
    "            for i in fdados:\n",
    "                writer.writerow(i)"
   ]
  },
  {
   "cell_type": "markdown",
   "id": "0b4bfdb1",
   "metadata": {},
   "source": [
    "**1. Você deverá desenvolver uma ou mais funções utilizando o paradigma funcional para realizar a integração de dados entre dois arquivos CSV. Faça as seguintes alterações:**\n",
    "- Nos campos decimais, substitua a vírgula por um ponto. \n",
    "- Gere um novo arquivo `bem_candidato_partido.csv` contendo todos os dados originais do arquivo `bem_candidato_2024_RS_edit.csv` e duas novas colunas: uma para o nome do candidato e outra para o nome do partido retiradas do arquivo `consulta_cand_2024_RS_edit.csv`.\n",
    "\n",
    "**Para testar, é necessário usar a função auxiliar `mostra_dados` confirme apresentado abaixo.:**\n",
    "```python\n",
    "mostra_dados(\"candidato_partido\", \"bem_candidato_2024_RS_edit.csv\", func)\n",
    "```\n",
    "\n",
    "**Para persistir o resultado em disco, é necessário usar a função auxiliar `salvar_dados` conforme apresentado abaixo:**\n",
    "```python\n",
    "salvar_dados(\"bem_candidato_2024_RS_edit.csv\", \"bem_candidato_partido.csv\", func)\n",
    "```\n",
    "\n",
    "- **Exemplo de saída esperada:**\n",
    "```bash\n",
    "|___    candidato_partido   ___|\n",
    "{'SG_UE': '86770', 'NM_UE': 'GETÚLIO VARGAS', 'SQ_CANDIDATO': '210002110594', 'NR_ORDEM_BEM_CANDIDATO': '1', 'CD_TIPO_BEM_CANDIDATO': '12', 'DS_TIPO_BEM_CANDIDATO': 'Casa', 'DS_BEM_CANDIDATO': 'UMA CASA EM ALVENARIA COM TERRENO URBANO', 'VR_BEM_CANDIDATO': '280000,00', 'NM_CANDIDATO': 'MAURICIO DOS SANTOS CARVALHO', 'NM_PARTIDO': 'MOVIMENTO DEMOCRÁTICO BRASILEIRO'}\n",
    "{'SG_UE': '86770', 'NM_UE': 'GETÚLIO VARGAS', 'SQ_CANDIDATO': '210002110594', 'NR_ORDEM_BEM_CANDIDATO': '2', 'CD_TIPO_BEM_CANDIDATO': '21', 'DS_TIPO_BEM_CANDIDATO': 'Veículo automotor terrestre: caminhão, automóvel, moto, etc.', 'DS_BEM_CANDIDATO': 'UM AUTOMÓVEL GM/CORSA ANO 1994', 'VR_BEM_CANDIDATO': '8500,00', 'NM_CANDIDATO': 'MAURICIO DOS SANTOS CARVALHO', 'NM_PARTIDO': 'MOVIMENTO DEMOCRÁTICO BRASILEIRO'}\n",
    "{'SG_UE': '86770', 'NM_UE': 'GETÚLIO VARGAS', 'SQ_CANDIDATO': '210002110594', 'NR_ORDEM_BEM_CANDIDATO': '3', 'CD_TIPO_BEM_CANDIDATO': '21', 'DS_TIPO_BEM_CANDIDATO': 'Veículo automotor terrestre: caminhão, automóvel, moto, etc.', 'DS_BEM_CANDIDATO': 'UMA MOTOCICLETA YAMAHA YBR 2003', 'VR_BEM_CANDIDATO': '3500,00', 'NM_CANDIDATO': 'MAURICIO DOS SANTOS CARVALHO', 'NM_PARTIDO': 'MOVIMENTO DEMOCRÁTICO BRASILEIRO'}\n",
    "{'SG_UE': '86770', 'NM_UE': 'GETÚLIO VARGAS', 'SQ_CANDIDATO': '210002110598', 'NR_ORDEM_BEM_CANDIDATO': '1', 'CD_TIPO_BEM_CANDIDATO': '63', 'DS_TIPO_BEM_CANDIDATO': 'Dinheiro em espécie - moeda nacional', 'DS_BEM_CANDIDATO': 'DINHEIRO EM MOEDA CORRENTE NACIONAL', 'VR_BEM_CANDIDATO': '8000,00', 'NM_CANDIDATO': 'JACIR FERNANDES', 'NM_PARTIDO': 'MOVIMENTO DEMOCRÁTICO BRASILEIRO'}\n",
    "...\n",
    "```"
   ]
  },
  {
   "cell_type": "code",
   "execution_count": null,
   "id": "1ae5ccab",
   "metadata": {},
   "outputs": [],
   "source": []
  },
  {
   "cell_type": "markdown",
   "id": "75e4f3a2",
   "metadata": {},
   "source": [
    "**2. Você deverá desenvolver uma ou mais funções utilizando o paradigma funcional para processar dados do arquivo CSV \"bem_candidato_2024_RS.csv\". O objetivo é calcular quantos bens cada candidato declarou. Mostre apenas os candidatos que declararam mais de 3 bens. O resultado deve apresentar o código do candidato, seu nome e a quantidade de bens ordenados pela mesma.**\n",
    "\n",
    "- **Para testar, é necessário usar a função auxiliar `mostra_dados` conforme apresentado abaixo.**\n",
    "```python\n",
    "mostra_dados(\"candidados_bens\", \"bem_candidato_partido.csv\", quantidade_bens_candidato)\n",
    "```\n",
    "\n",
    "- **Exemplo de saída esperada:**\n",
    "```bash\n",
    "|___    candidados_bens   ___|\n",
    "('210002107330', {'qtde_bens': 194, 'nome': 'FELIPE ESPOSITO CORDEIRO'})\n",
    "('210002216676', {'qtde_bens': 174, 'nome': 'RODOLFO ANTONIO BURMANN'})\n",
    "('210002219580', {'qtde_bens': 166, 'nome': 'ADEMIR SEBASTIÃO BURMANN'})\n",
    "('210002136998', {'qtde_bens': 129, 'nome': 'OMAR WENNING'})\n",
    "('210002346176', {'qtde_bens': 98, 'nome': 'BERNARDO QUATRIN DALLA CORTE'})\n",
    "...\n",
    "```"
   ]
  },
  {
   "cell_type": "code",
   "execution_count": null,
   "id": "68b9ac39",
   "metadata": {},
   "outputs": [],
   "source": []
  },
  {
   "cell_type": "markdown",
   "id": "3a8d7a5a-4f6b-483a-b3a7-de85e090a368",
   "metadata": {},
   "source": [
    "**3. Agora que você já tem acesso aos partidos de cada candidato, utilize o arquivo `bem_candidato_partido.csv` para calcular quanto cada candidato tem de bens em média por partido. Organize os resultados de forma decrescente, do partido com a maior média de bens por candidato ao menor. Crie funções utilizando apenas o paradigma funcional.**\n",
    "\n",
    "- **Para testar, é necessário usar a função auxiliar `mostra_dados` conforme apresentado abaixo.**\n",
    "```python\n",
    "mostra_dados(\"partidos_com_maiores_bens\", \"bem_candidato_partido.csv\", partido_maior_bens)\n",
    "```\n",
    "\n",
    "- **Exemplo de saída esperada (não é obrigatório o uso de tuplas, pode ser apresentado de outras formas, como listas ou dicionários):**\n",
    "```bash\n",
    "|___    partidos_com_maiores_bens   ___|\n",
    "('PARTIDO DEMOCRÁTICO TRABALHISTA', 1016729.190695482)\n",
    "('PARTIDO LIBERAL', 628072.4296641159)\n",
    "('PARTIDO NOVO', 470735.77626373613)\n",
    "('MOVIMENTO DEMOCRÁTICO BRASILEIRO', 423628.2350835318)\n",
    "('PROGRESSISTAS', 407760.76867007563)\n",
    "('PARTIDO DOS TRABALHADORES', 376188.9648167799)\n",
    "('PARTIDO DA SOCIAL DEMOCRACIA BRASILEIRA', 351641.50580623257)\n",
    "('PARTIDO RENOVAÇÃO DEMOCRÁTICA', 341053.5536421724)\n",
    "('UNIÃO BRASIL', 340994.294853494)\n",
    "('PODEMOS', 329427.7651400733)\n",
    "('REPUBLICANOS', 321216.4643204249)\n",
    "('PARTIDO RENOVADOR TRABALHISTA BRASILEIRO', 312446.62916666665)\n",
    "('PARTIDO SOCIALISMO E LIBERDADE', 300402.36219298246)\n",
    "('PARTIDO DA MULHER BRASILEIRA', 299347.685)\n",
    "('CIDADANIA', 298169.6933170731)\n",
    "('PARTIDO SOCIAL DEMOCRÁTICO', 284504.5655119048)\n",
    "('REDE SUSTENTABILIDADE', 266533.86333333334)\n",
    "('DEMOCRACIA CRISTÃ', 255017.59102564104)\n",
    "('PARTIDO VERDE', 251886.8289189189)\n",
    "('PARTIDO SOCIALISTA BRASILEIRO', 251598.93138461554)\n",
    "('PARTIDO SOCIALISTA DOS TRABALHADORES UNIFICADO', 250698.78999999998)\n",
    "('PARTIDO COMUNISTA DO BRASIL', 222550.68434210523)\n",
    "('SOLIDARIEDADE', 211489.10294117648)\n",
    "('AVANTE', 199726.3055223881)\n",
    "('AGIR', 159223.35444444447)\n",
    "('UNIDADE POPULAR', 26500.0)\n",
    "```"
   ]
  },
  {
   "cell_type": "code",
   "execution_count": null,
   "id": "4ad17881",
   "metadata": {},
   "outputs": [],
   "source": []
  },
  {
   "cell_type": "markdown",
   "id": "2d153a3c",
   "metadata": {},
   "source": [
    "## Parte 2: Listas encadeadas"
   ]
  },
  {
   "cell_type": "markdown",
   "id": "1b8cd885-1cd1-43eb-855a-989e622b9178",
   "metadata": {},
   "source": [
    "### Funções Auxiliares"
   ]
  },
  {
   "cell_type": "code",
   "execution_count": null,
   "id": "02b2022c",
   "metadata": {},
   "outputs": [],
   "source": [
    "def head(L):\n",
    "    return L[0]\n",
    "\n",
    "def tail(L):\n",
    "    return L[1]"
   ]
  },
  {
   "cell_type": "markdown",
   "id": "2c376a68",
   "metadata": {},
   "source": [
    "### Lista para testes:"
   ]
  },
  {
   "cell_type": "code",
   "execution_count": null,
   "id": "5f0496a8",
   "metadata": {},
   "outputs": [],
   "source": [
    "LL = (4, (12, (5, (-18, (-12, (16, (3, None)))))))"
   ]
  },
  {
   "cell_type": "markdown",
   "id": "48e7eb20-2d36-4819-87a1-348f9679118e",
   "metadata": {},
   "source": [
    "**4. Implemente as seguintes funções do paradigma funcional para trabalhar com listas encadeadas.**\n",
    "\n",
    "- a) `fatorialLL` deve receber uma lista encadeada `LL` e calcular o fatorial para cada um dos elementos. Assim, retornando uma nova lista encadeada (`LL'`) com o fatorial de cada um dos elementos.\n",
    "- b) `primeLL` deve recebe uma lista encadeada `LL` de modo que produza uma nova lista `LL` somente com os números que são primos.\n",
    "\n",
    "**Resultado Esperado:**\n",
    "```bash\n",
    "fatorialLL: (24, (479001600, (120, (1, (1, (20922789888000, (6, None)))))))\n",
    "primoLL: (5, (3, None))\n",
    "```"
   ]
  },
  {
   "cell_type": "code",
   "execution_count": null,
   "id": "950f0109",
   "metadata": {},
   "outputs": [],
   "source": []
  },
  {
   "cell_type": "markdown",
   "id": "a05803cb-34c3-4eba-8c7b-7306b9a1f373",
   "metadata": {},
   "source": [
    "**5 (EXTRA). Implemente uma função principal `selectionSort`, de forma que ela receba uma lista encadeada `LL`, faça o ordenamento, e retorne uma nova lista encadeada (`LL`). Poderão ser criadas funções auxiliares que respeitam o principio do paradigma funcional.**\n",
    "\n",
    "\n",
    "<font color=\"green\">\n",
    "<b>\n",
    "Lembrando: O Selection Sort divide a lista em duas partes: a parte ordenada e a parte não ordenada. Ele repetidamente seleciona o menor (ou maior) elemento da parte não ordenada e o move para a parte ordenada, observe o gif abaixo:\n",
    "</font>\n",
    "    \n",
    "![Selection Sort](https://tutorialhorizon.com/static/media/algorithms/2019/01/Selection-Sort-Gif.gif)\n",
    "\n",
    "**Para mais detalhes sobre o selection sort acesse: https://visualgo.net/en/sorting**\n",
    "\n",
    "**Resultado Esperado:**\n",
    "```bash   \n",
    "Sorted-LL: (-18, (-12, (3, (4, (5, (12, (16, None)))))))\n",
    "```"
   ]
  },
  {
   "cell_type": "markdown",
   "id": "1168830c",
   "metadata": {},
   "source": []
  }
 ],
 "metadata": {
  "kernelspec": {
   "display_name": "Python 3",
   "language": "python",
   "name": "python3"
  },
  "language_info": {
   "codemirror_mode": {
    "name": "ipython",
    "version": 3
   },
   "file_extension": ".py",
   "mimetype": "text/x-python",
   "name": "python",
   "nbconvert_exporter": "python",
   "pygments_lexer": "ipython3",
   "version": "3.11.9"
  }
 },
 "nbformat": 4,
 "nbformat_minor": 5
}
